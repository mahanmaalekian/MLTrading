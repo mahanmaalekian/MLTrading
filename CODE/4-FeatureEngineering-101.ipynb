{
 "cells": [
  {
   "cell_type": "markdown",
   "id": "12887782-bdd2-438e-817b-ad34edead87b",
   "metadata": {},
   "source": [
    "#### Imports"
   ]
  },
  {
   "cell_type": "code",
   "execution_count": 2,
   "id": "1ffb045a-ef6e-4f4f-9ad8-ec4148aeb77b",
   "metadata": {},
   "outputs": [],
   "source": [
    "import pandas as pd\n",
    "import numpy as np\n",
    "import yfinance as yf\n",
    "from ta import add_all_ta_features\n",
    "\n",
    "# Statistics\n",
    "from statsmodels.tsa.stattools import adfuller\n",
    "\n",
    "# Data Preprocessing\n",
    "from sklearn.preprocessing import LabelEncoder\n",
    "from sklearn.preprocessing import OneHotEncoder\n",
    "from sklearn.preprocessing import StandardScaler\n",
    "from sklearn.preprocessing import MinMaxScaler\n",
    "\n",
    "from sklearn.model_selection import train_test_split\n",
    "from sklearn.model_selection import cross_val_score\n",
    "from sklearn.ensemble import RandomForestRegressor\n",
    "from sklearn.model_selection import RepeatedKFold\n",
    "\n",
    "import matplotlib.pyplot as plt"
   ]
  },
  {
   "cell_type": "markdown",
   "id": "cf16bcec-d353-488d-8ae2-32fd6586f7a6",
   "metadata": {},
   "source": [
    "### Data Ingestion"
   ]
  },
  {
   "cell_type": "code",
   "execution_count": 3,
   "id": "cb0e08bf-1d0d-488e-9831-d0a3b2b6f773",
   "metadata": {},
   "outputs": [
    {
     "name": "stdout",
     "output_type": "stream",
     "text": [
      "Length of Data: 199504\n"
     ]
    },
    {
     "data": {
      "text/html": [
       "<div>\n",
       "<style scoped>\n",
       "    .dataframe tbody tr th:only-of-type {\n",
       "        vertical-align: middle;\n",
       "    }\n",
       "\n",
       "    .dataframe tbody tr th {\n",
       "        vertical-align: top;\n",
       "    }\n",
       "\n",
       "    .dataframe thead th {\n",
       "        text-align: right;\n",
       "    }\n",
       "</style>\n",
       "<table border=\"1\" class=\"dataframe\">\n",
       "  <thead>\n",
       "    <tr style=\"text-align: right;\">\n",
       "      <th></th>\n",
       "      <th>Date</th>\n",
       "      <th>Id</th>\n",
       "      <th>suburb</th>\n",
       "      <th>postalCode</th>\n",
       "      <th>sellPrice</th>\n",
       "      <th>bed</th>\n",
       "      <th>bath</th>\n",
       "      <th>car</th>\n",
       "      <th>propType</th>\n",
       "    </tr>\n",
       "  </thead>\n",
       "  <tbody>\n",
       "    <tr>\n",
       "      <th>0</th>\n",
       "      <td>2019-06-19</td>\n",
       "      <td>1</td>\n",
       "      <td>Avalon Beach</td>\n",
       "      <td>2107</td>\n",
       "      <td>1210000</td>\n",
       "      <td>4.0</td>\n",
       "      <td>2</td>\n",
       "      <td>2.0</td>\n",
       "      <td>house</td>\n",
       "    </tr>\n",
       "    <tr>\n",
       "      <th>1</th>\n",
       "      <td>2019-06-13</td>\n",
       "      <td>2</td>\n",
       "      <td>Avalon Beach</td>\n",
       "      <td>2107</td>\n",
       "      <td>2250000</td>\n",
       "      <td>4.0</td>\n",
       "      <td>3</td>\n",
       "      <td>4.0</td>\n",
       "      <td>house</td>\n",
       "    </tr>\n",
       "    <tr>\n",
       "      <th>2</th>\n",
       "      <td>2019-06-07</td>\n",
       "      <td>3</td>\n",
       "      <td>Whale Beach</td>\n",
       "      <td>2107</td>\n",
       "      <td>2920000</td>\n",
       "      <td>3.0</td>\n",
       "      <td>3</td>\n",
       "      <td>2.0</td>\n",
       "      <td>house</td>\n",
       "    </tr>\n",
       "    <tr>\n",
       "      <th>3</th>\n",
       "      <td>2019-05-28</td>\n",
       "      <td>4</td>\n",
       "      <td>Avalon Beach</td>\n",
       "      <td>2107</td>\n",
       "      <td>1530000</td>\n",
       "      <td>3.0</td>\n",
       "      <td>1</td>\n",
       "      <td>2.0</td>\n",
       "      <td>house</td>\n",
       "    </tr>\n",
       "    <tr>\n",
       "      <th>4</th>\n",
       "      <td>2019-05-22</td>\n",
       "      <td>5</td>\n",
       "      <td>Whale Beach</td>\n",
       "      <td>2107</td>\n",
       "      <td>8000000</td>\n",
       "      <td>5.0</td>\n",
       "      <td>4</td>\n",
       "      <td>4.0</td>\n",
       "      <td>house</td>\n",
       "    </tr>\n",
       "  </tbody>\n",
       "</table>\n",
       "</div>"
      ],
      "text/plain": [
       "         Date  Id        suburb  postalCode  sellPrice  bed  bath  car  \\\n",
       "0  2019-06-19   1  Avalon Beach        2107    1210000  4.0     2  2.0   \n",
       "1  2019-06-13   2  Avalon Beach        2107    2250000  4.0     3  4.0   \n",
       "2  2019-06-07   3   Whale Beach        2107    2920000  3.0     3  2.0   \n",
       "3  2019-05-28   4  Avalon Beach        2107    1530000  3.0     1  2.0   \n",
       "4  2019-05-22   5   Whale Beach        2107    8000000  5.0     4  4.0   \n",
       "\n",
       "  propType  \n",
       "0    house  \n",
       "1    house  \n",
       "2    house  \n",
       "3    house  \n",
       "4    house  "
      ]
     },
     "execution_count": 3,
     "metadata": {},
     "output_type": "execute_result"
    }
   ],
   "source": [
    "df = pd.read_csv(\"SydneyHousePrices.csv\")\n",
    "print(f\"Length of Data: {len(df)}\")\n",
    "df.head()"
   ]
  },
  {
   "cell_type": "code",
   "execution_count": 4,
   "id": "15522fe5-15c7-4413-9875-e7c48a4adb56",
   "metadata": {},
   "outputs": [
    {
     "name": "stdout",
     "output_type": "stream",
     "text": [
      "<class 'pandas.core.frame.DataFrame'>\n",
      "RangeIndex: 199504 entries, 0 to 199503\n",
      "Data columns (total 9 columns):\n",
      " #   Column      Non-Null Count   Dtype  \n",
      "---  ------      --------------   -----  \n",
      " 0   Date        199504 non-null  object \n",
      " 1   Id          199504 non-null  int64  \n",
      " 2   suburb      199504 non-null  object \n",
      " 3   postalCode  199504 non-null  int64  \n",
      " 4   sellPrice   199504 non-null  int64  \n",
      " 5   bed         199350 non-null  float64\n",
      " 6   bath        199504 non-null  int64  \n",
      " 7   car         181353 non-null  float64\n",
      " 8   propType    199504 non-null  object \n",
      "dtypes: float64(2), int64(4), object(3)\n",
      "memory usage: 13.7+ MB\n"
     ]
    }
   ],
   "source": [
    "# Interpret data\n",
    "df.info()"
   ]
  },
  {
   "cell_type": "markdown",
   "id": "d2ccc3e1-64e7-4192-8b54-bf291767b6a5",
   "metadata": {},
   "source": [
    "# Feature Engineering - Common Tasks"
   ]
  },
  {
   "cell_type": "markdown",
   "id": "1d9d987e-02ec-4fbf-9e31-58c57f84270c",
   "metadata": {},
   "source": [
    "#### Handle Non-Numerical Data"
   ]
  },
  {
   "cell_type": "code",
   "execution_count": 7,
   "id": "366a993d-12bf-44c1-98d1-7d76e7e8b96b",
   "metadata": {},
   "outputs": [
    {
     "name": "stdout",
     "output_type": "stream",
     "text": [
      "Unique suburbs:  685\n"
     ]
    }
   ],
   "source": [
    "# Count unique items for suburb\n",
    "suburb_text_unique = df[\"suburb\"].unique()\n",
    "print(\"Unique suburbs: \", len(suburb_text_unique))\n",
    "print(\"Perform label encoding\")"
   ]
  },
  {
   "cell_type": "code",
   "execution_count": 9,
   "id": "61d1d663-f59a-429e-ad5f-6ffae6d7631c",
   "metadata": {},
   "outputs": [
    {
     "name": "stdout",
     "output_type": "stream",
     "text": [
      "Unique Prop Types:  8\n"
     ]
    }
   ],
   "source": [
    "# Count unique items for PropType\n",
    "prop_text_unique = df[\"propType\"].unique()\n",
    "print(\"Unique Prop Types: \", len(prop_text_unique))\n",
    "print(\"One hot encoding\")"
   ]
  },
  {
   "cell_type": "code",
   "execution_count": 10,
   "id": "e947c547-434d-463d-9ced-7d05928d3be1",
   "metadata": {},
   "outputs": [
    {
     "data": {
      "text/html": [
       "<div>\n",
       "<style scoped>\n",
       "    .dataframe tbody tr th:only-of-type {\n",
       "        vertical-align: middle;\n",
       "    }\n",
       "\n",
       "    .dataframe tbody tr th {\n",
       "        vertical-align: top;\n",
       "    }\n",
       "\n",
       "    .dataframe thead th {\n",
       "        text-align: right;\n",
       "    }\n",
       "</style>\n",
       "<table border=\"1\" class=\"dataframe\">\n",
       "  <thead>\n",
       "    <tr style=\"text-align: right;\">\n",
       "      <th></th>\n",
       "      <th>Date</th>\n",
       "      <th>Id</th>\n",
       "      <th>suburb</th>\n",
       "      <th>postalCode</th>\n",
       "      <th>sellPrice</th>\n",
       "      <th>bed</th>\n",
       "      <th>bath</th>\n",
       "      <th>car</th>\n",
       "      <th>propType</th>\n",
       "      <th>suburbs_encoded</th>\n",
       "    </tr>\n",
       "  </thead>\n",
       "  <tbody>\n",
       "    <tr>\n",
       "      <th>0</th>\n",
       "      <td>2019-06-19</td>\n",
       "      <td>1</td>\n",
       "      <td>Avalon Beach</td>\n",
       "      <td>2107</td>\n",
       "      <td>1210000</td>\n",
       "      <td>4.0</td>\n",
       "      <td>2</td>\n",
       "      <td>2.0</td>\n",
       "      <td>house</td>\n",
       "      <td>22</td>\n",
       "    </tr>\n",
       "    <tr>\n",
       "      <th>1</th>\n",
       "      <td>2019-06-13</td>\n",
       "      <td>2</td>\n",
       "      <td>Avalon Beach</td>\n",
       "      <td>2107</td>\n",
       "      <td>2250000</td>\n",
       "      <td>4.0</td>\n",
       "      <td>3</td>\n",
       "      <td>4.0</td>\n",
       "      <td>house</td>\n",
       "      <td>22</td>\n",
       "    </tr>\n",
       "    <tr>\n",
       "      <th>2</th>\n",
       "      <td>2019-06-07</td>\n",
       "      <td>3</td>\n",
       "      <td>Whale Beach</td>\n",
       "      <td>2107</td>\n",
       "      <td>2920000</td>\n",
       "      <td>3.0</td>\n",
       "      <td>3</td>\n",
       "      <td>2.0</td>\n",
       "      <td>house</td>\n",
       "      <td>654</td>\n",
       "    </tr>\n",
       "    <tr>\n",
       "      <th>3</th>\n",
       "      <td>2019-05-28</td>\n",
       "      <td>4</td>\n",
       "      <td>Avalon Beach</td>\n",
       "      <td>2107</td>\n",
       "      <td>1530000</td>\n",
       "      <td>3.0</td>\n",
       "      <td>1</td>\n",
       "      <td>2.0</td>\n",
       "      <td>house</td>\n",
       "      <td>22</td>\n",
       "    </tr>\n",
       "    <tr>\n",
       "      <th>4</th>\n",
       "      <td>2019-05-22</td>\n",
       "      <td>5</td>\n",
       "      <td>Whale Beach</td>\n",
       "      <td>2107</td>\n",
       "      <td>8000000</td>\n",
       "      <td>5.0</td>\n",
       "      <td>4</td>\n",
       "      <td>4.0</td>\n",
       "      <td>house</td>\n",
       "      <td>654</td>\n",
       "    </tr>\n",
       "  </tbody>\n",
       "</table>\n",
       "</div>"
      ],
      "text/plain": [
       "         Date  Id        suburb  postalCode  sellPrice  bed  bath  car  \\\n",
       "0  2019-06-19   1  Avalon Beach        2107    1210000  4.0     2  2.0   \n",
       "1  2019-06-13   2  Avalon Beach        2107    2250000  4.0     3  4.0   \n",
       "2  2019-06-07   3   Whale Beach        2107    2920000  3.0     3  2.0   \n",
       "3  2019-05-28   4  Avalon Beach        2107    1530000  3.0     1  2.0   \n",
       "4  2019-05-22   5   Whale Beach        2107    8000000  5.0     4  4.0   \n",
       "\n",
       "  propType  suburbs_encoded  \n",
       "0    house               22  \n",
       "1    house               22  \n",
       "2    house              654  \n",
       "3    house               22  \n",
       "4    house              654  "
      ]
     },
     "execution_count": 10,
     "metadata": {},
     "output_type": "execute_result"
    }
   ],
   "source": [
    "# Label Encoding\n",
    "labelencoder = LabelEncoder()\n",
    "encoded_suburbs = labelencoder.fit_transform(df[\"suburb\"])\n",
    "df[\"suburbs_encoded\"] = encoded_suburbs\n",
    "df.head()"
   ]
  },
  {
   "cell_type": "code",
   "execution_count": 11,
   "id": "78dfec34-499c-4f4d-b182-742c97ab49fc",
   "metadata": {},
   "outputs": [
    {
     "data": {
      "text/html": [
       "<div>\n",
       "<style scoped>\n",
       "    .dataframe tbody tr th:only-of-type {\n",
       "        vertical-align: middle;\n",
       "    }\n",
       "\n",
       "    .dataframe tbody tr th {\n",
       "        vertical-align: top;\n",
       "    }\n",
       "\n",
       "    .dataframe thead th {\n",
       "        text-align: right;\n",
       "    }\n",
       "</style>\n",
       "<table border=\"1\" class=\"dataframe\">\n",
       "  <thead>\n",
       "    <tr style=\"text-align: right;\">\n",
       "      <th></th>\n",
       "      <th>Date</th>\n",
       "      <th>Id</th>\n",
       "      <th>suburb</th>\n",
       "      <th>postalCode</th>\n",
       "      <th>sellPrice</th>\n",
       "      <th>bed</th>\n",
       "      <th>bath</th>\n",
       "      <th>car</th>\n",
       "      <th>propType</th>\n",
       "      <th>suburbs_encoded</th>\n",
       "      <th>pt_duplex/semi-detached</th>\n",
       "      <th>pt_house</th>\n",
       "      <th>pt_other</th>\n",
       "      <th>pt_terrace</th>\n",
       "      <th>pt_townhouse</th>\n",
       "      <th>pt_villa</th>\n",
       "      <th>pt_warehouse</th>\n",
       "    </tr>\n",
       "  </thead>\n",
       "  <tbody>\n",
       "    <tr>\n",
       "      <th>199501</th>\n",
       "      <td>2014-04-17</td>\n",
       "      <td>199502</td>\n",
       "      <td>Alfords Point</td>\n",
       "      <td>2234</td>\n",
       "      <td>850000</td>\n",
       "      <td>4.0</td>\n",
       "      <td>2</td>\n",
       "      <td>2.0</td>\n",
       "      <td>house</td>\n",
       "      <td>5</td>\n",
       "      <td>0</td>\n",
       "      <td>1</td>\n",
       "      <td>0</td>\n",
       "      <td>0</td>\n",
       "      <td>0</td>\n",
       "      <td>0</td>\n",
       "      <td>0</td>\n",
       "    </tr>\n",
       "    <tr>\n",
       "      <th>199502</th>\n",
       "      <td>2013-09-07</td>\n",
       "      <td>199503</td>\n",
       "      <td>Illawong</td>\n",
       "      <td>2234</td>\n",
       "      <td>640000</td>\n",
       "      <td>3.0</td>\n",
       "      <td>2</td>\n",
       "      <td>2.0</td>\n",
       "      <td>townhouse</td>\n",
       "      <td>318</td>\n",
       "      <td>0</td>\n",
       "      <td>0</td>\n",
       "      <td>0</td>\n",
       "      <td>0</td>\n",
       "      <td>1</td>\n",
       "      <td>0</td>\n",
       "      <td>0</td>\n",
       "    </tr>\n",
       "    <tr>\n",
       "      <th>199503</th>\n",
       "      <td>2011-04-16</td>\n",
       "      <td>199504</td>\n",
       "      <td>Alfords Point</td>\n",
       "      <td>2234</td>\n",
       "      <td>1611000</td>\n",
       "      <td>5.0</td>\n",
       "      <td>4</td>\n",
       "      <td>3.0</td>\n",
       "      <td>house</td>\n",
       "      <td>5</td>\n",
       "      <td>0</td>\n",
       "      <td>1</td>\n",
       "      <td>0</td>\n",
       "      <td>0</td>\n",
       "      <td>0</td>\n",
       "      <td>0</td>\n",
       "      <td>0</td>\n",
       "    </tr>\n",
       "  </tbody>\n",
       "</table>\n",
       "</div>"
      ],
      "text/plain": [
       "              Date      Id         suburb  postalCode  sellPrice  bed  bath  \\\n",
       "199501  2014-04-17  199502  Alfords Point        2234     850000  4.0     2   \n",
       "199502  2013-09-07  199503       Illawong        2234     640000  3.0     2   \n",
       "199503  2011-04-16  199504  Alfords Point        2234    1611000  5.0     4   \n",
       "\n",
       "        car   propType  suburbs_encoded  pt_duplex/semi-detached  pt_house  \\\n",
       "199501  2.0      house                5                        0         1   \n",
       "199502  2.0  townhouse              318                        0         0   \n",
       "199503  3.0      house                5                        0         1   \n",
       "\n",
       "        pt_other  pt_terrace  pt_townhouse  pt_villa  pt_warehouse  \n",
       "199501         0           0             0         0             0  \n",
       "199502         0           0             1         0             0  \n",
       "199503         0           0             0         0             0  "
      ]
     },
     "execution_count": 11,
     "metadata": {},
     "output_type": "execute_result"
    }
   ],
   "source": [
    "# One hot encoding\n",
    "\n",
    "onehot_encoded = pd.get_dummies(df[\"propType\"], prefix='pt', drop_first=True)\n",
    "df = df.join(onehot_encoded)\n",
    "df.tail(3)"
   ]
  },
  {
   "cell_type": "markdown",
   "id": "1c7ece2d-427c-4237-b9b2-7805c65e37a5",
   "metadata": {},
   "source": [
    "### Set Target"
   ]
  },
  {
   "cell_type": "code",
   "execution_count": 13,
   "id": "655285c0-699b-4a12-b353-5f282eff2101",
   "metadata": {},
   "outputs": [
    {
     "data": {
      "text/html": [
       "<div>\n",
       "<style scoped>\n",
       "    .dataframe tbody tr th:only-of-type {\n",
       "        vertical-align: middle;\n",
       "    }\n",
       "\n",
       "    .dataframe tbody tr th {\n",
       "        vertical-align: top;\n",
       "    }\n",
       "\n",
       "    .dataframe thead th {\n",
       "        text-align: right;\n",
       "    }\n",
       "</style>\n",
       "<table border=\"1\" class=\"dataframe\">\n",
       "  <thead>\n",
       "    <tr style=\"text-align: right;\">\n",
       "      <th></th>\n",
       "      <th>Date</th>\n",
       "      <th>Id</th>\n",
       "      <th>suburb</th>\n",
       "      <th>postalCode</th>\n",
       "      <th>sellPrice</th>\n",
       "      <th>bed</th>\n",
       "      <th>bath</th>\n",
       "      <th>car</th>\n",
       "      <th>propType</th>\n",
       "      <th>suburbs_encoded</th>\n",
       "      <th>pt_duplex/semi-detached</th>\n",
       "      <th>pt_house</th>\n",
       "      <th>pt_other</th>\n",
       "      <th>pt_terrace</th>\n",
       "      <th>pt_townhouse</th>\n",
       "      <th>pt_villa</th>\n",
       "      <th>pt_warehouse</th>\n",
       "      <th>TARGET</th>\n",
       "    </tr>\n",
       "  </thead>\n",
       "  <tbody>\n",
       "    <tr>\n",
       "      <th>0</th>\n",
       "      <td>2019-06-19</td>\n",
       "      <td>1</td>\n",
       "      <td>Avalon Beach</td>\n",
       "      <td>2107</td>\n",
       "      <td>1210000</td>\n",
       "      <td>4.0</td>\n",
       "      <td>2</td>\n",
       "      <td>2.0</td>\n",
       "      <td>house</td>\n",
       "      <td>22</td>\n",
       "      <td>0</td>\n",
       "      <td>1</td>\n",
       "      <td>0</td>\n",
       "      <td>0</td>\n",
       "      <td>0</td>\n",
       "      <td>0</td>\n",
       "      <td>0</td>\n",
       "      <td>1210000</td>\n",
       "    </tr>\n",
       "    <tr>\n",
       "      <th>1</th>\n",
       "      <td>2019-06-13</td>\n",
       "      <td>2</td>\n",
       "      <td>Avalon Beach</td>\n",
       "      <td>2107</td>\n",
       "      <td>2250000</td>\n",
       "      <td>4.0</td>\n",
       "      <td>3</td>\n",
       "      <td>4.0</td>\n",
       "      <td>house</td>\n",
       "      <td>22</td>\n",
       "      <td>0</td>\n",
       "      <td>1</td>\n",
       "      <td>0</td>\n",
       "      <td>0</td>\n",
       "      <td>0</td>\n",
       "      <td>0</td>\n",
       "      <td>0</td>\n",
       "      <td>2250000</td>\n",
       "    </tr>\n",
       "    <tr>\n",
       "      <th>2</th>\n",
       "      <td>2019-06-07</td>\n",
       "      <td>3</td>\n",
       "      <td>Whale Beach</td>\n",
       "      <td>2107</td>\n",
       "      <td>2920000</td>\n",
       "      <td>3.0</td>\n",
       "      <td>3</td>\n",
       "      <td>2.0</td>\n",
       "      <td>house</td>\n",
       "      <td>654</td>\n",
       "      <td>0</td>\n",
       "      <td>1</td>\n",
       "      <td>0</td>\n",
       "      <td>0</td>\n",
       "      <td>0</td>\n",
       "      <td>0</td>\n",
       "      <td>0</td>\n",
       "      <td>2920000</td>\n",
       "    </tr>\n",
       "  </tbody>\n",
       "</table>\n",
       "</div>"
      ],
      "text/plain": [
       "         Date  Id        suburb  postalCode  sellPrice  bed  bath  car  \\\n",
       "0  2019-06-19   1  Avalon Beach        2107    1210000  4.0     2  2.0   \n",
       "1  2019-06-13   2  Avalon Beach        2107    2250000  4.0     3  4.0   \n",
       "2  2019-06-07   3   Whale Beach        2107    2920000  3.0     3  2.0   \n",
       "\n",
       "  propType  suburbs_encoded  pt_duplex/semi-detached  pt_house  pt_other  \\\n",
       "0    house               22                        0         1         0   \n",
       "1    house               22                        0         1         0   \n",
       "2    house              654                        0         1         0   \n",
       "\n",
       "   pt_terrace  pt_townhouse  pt_villa  pt_warehouse   TARGET  \n",
       "0           0             0         0             0  1210000  \n",
       "1           0             0         0             0  2250000  \n",
       "2           0             0         0             0  2920000  "
      ]
     },
     "execution_count": 13,
     "metadata": {},
     "output_type": "execute_result"
    }
   ],
   "source": [
    "df[\"TARGET\"] = df[\"sellPrice\"]\n",
    "df.head(3)"
   ]
  },
  {
   "cell_type": "markdown",
   "id": "bfe3443a-4cc3-4864-9756-6d33a769d2d0",
   "metadata": {},
   "source": [
    "### Remove Redundant Features"
   ]
  },
  {
   "cell_type": "code",
   "execution_count": null,
   "id": "3aaa1849-1b31-4f4d-858f-06c547925895",
   "metadata": {},
   "outputs": [],
   "source": [
    "# Remove features\n",
    "df_drop = df.copy()\n",
    "df_drop.drop(columns=[\"Date\", \"Id\", \"suburb\", \"propType\", \"sellPrice\"], inplace=True)\n",
    "df_drop.head()"
   ]
  },
  {
   "cell_type": "markdown",
   "id": "80fdba0e-8817-4e91-ac18-a7ad6d7b63cd",
   "metadata": {},
   "source": [
    "##### Check for NaN or Inf Values"
   ]
  },
  {
   "cell_type": "code",
   "execution_count": 18,
   "id": "7037cd6b-d62c-4dec-91c1-6a4740f4db8f",
   "metadata": {},
   "outputs": [
    {
     "name": "stdout",
     "output_type": "stream",
     "text": [
      "Is Null True\n",
      "Is Inf False\n"
     ]
    }
   ],
   "source": [
    "# Check of Null or Inf Values\n",
    "is_null = df_drop.isnull().values.any()\n",
    "is_inf = df_drop.isin([np.inf, -np.inf]).values.any()\n",
    "print(\"Is Null\", is_null)\n",
    "print(\"Is Inf\", is_inf)"
   ]
  },
  {
   "cell_type": "code",
   "execution_count": 19,
   "id": "3b51bbce-d703-4bef-8a95-8ecc6715c25d",
   "metadata": {},
   "outputs": [
    {
     "data": {
      "text/plain": [
       "False"
      ]
     },
     "execution_count": 19,
     "metadata": {},
     "output_type": "execute_result"
    }
   ],
   "source": [
    "# Fill NA\n",
    "df_drop = df_drop.fillna(df_drop.mean())\n",
    "df_drop.isnull().values.any()"
   ]
  },
  {
   "cell_type": "markdown",
   "id": "fd034790-9aaa-4db2-bfdd-d2f3882a03b5",
   "metadata": {},
   "source": [
    "##### Min Max Scaling"
   ]
  },
  {
   "cell_type": "code",
   "execution_count": 20,
   "id": "db1ba12d-aa89-427d-9d25-87b3d9526c14",
   "metadata": {},
   "outputs": [
    {
     "data": {
      "text/html": [
       "<div>\n",
       "<style scoped>\n",
       "    .dataframe tbody tr th:only-of-type {\n",
       "        vertical-align: middle;\n",
       "    }\n",
       "\n",
       "    .dataframe tbody tr th {\n",
       "        vertical-align: top;\n",
       "    }\n",
       "\n",
       "    .dataframe thead th {\n",
       "        text-align: right;\n",
       "    }\n",
       "</style>\n",
       "<table border=\"1\" class=\"dataframe\">\n",
       "  <thead>\n",
       "    <tr style=\"text-align: right;\">\n",
       "      <th></th>\n",
       "      <th>postalCode</th>\n",
       "      <th>bed</th>\n",
       "      <th>bath</th>\n",
       "      <th>car</th>\n",
       "      <th>suburbs_encoded</th>\n",
       "      <th>pt_duplex/semi-detached</th>\n",
       "      <th>pt_house</th>\n",
       "      <th>pt_other</th>\n",
       "      <th>pt_terrace</th>\n",
       "      <th>pt_townhouse</th>\n",
       "      <th>pt_villa</th>\n",
       "      <th>pt_warehouse</th>\n",
       "      <th>TARGET</th>\n",
       "    </tr>\n",
       "  </thead>\n",
       "  <tbody>\n",
       "    <tr>\n",
       "      <th>0</th>\n",
       "      <td>0.037179</td>\n",
       "      <td>0.030612</td>\n",
       "      <td>0.010204</td>\n",
       "      <td>0.025</td>\n",
       "      <td>0.032164</td>\n",
       "      <td>0.0</td>\n",
       "      <td>1.0</td>\n",
       "      <td>0.0</td>\n",
       "      <td>0.0</td>\n",
       "      <td>0.0</td>\n",
       "      <td>0.0</td>\n",
       "      <td>0.0</td>\n",
       "      <td>0.000563</td>\n",
       "    </tr>\n",
       "    <tr>\n",
       "      <th>1</th>\n",
       "      <td>0.037179</td>\n",
       "      <td>0.030612</td>\n",
       "      <td>0.020408</td>\n",
       "      <td>0.075</td>\n",
       "      <td>0.032164</td>\n",
       "      <td>0.0</td>\n",
       "      <td>1.0</td>\n",
       "      <td>0.0</td>\n",
       "      <td>0.0</td>\n",
       "      <td>0.0</td>\n",
       "      <td>0.0</td>\n",
       "      <td>0.0</td>\n",
       "      <td>0.001048</td>\n",
       "    </tr>\n",
       "    <tr>\n",
       "      <th>2</th>\n",
       "      <td>0.037179</td>\n",
       "      <td>0.020408</td>\n",
       "      <td>0.020408</td>\n",
       "      <td>0.025</td>\n",
       "      <td>0.956140</td>\n",
       "      <td>0.0</td>\n",
       "      <td>1.0</td>\n",
       "      <td>0.0</td>\n",
       "      <td>0.0</td>\n",
       "      <td>0.0</td>\n",
       "      <td>0.0</td>\n",
       "      <td>0.0</td>\n",
       "      <td>0.001360</td>\n",
       "    </tr>\n",
       "    <tr>\n",
       "      <th>3</th>\n",
       "      <td>0.037179</td>\n",
       "      <td>0.020408</td>\n",
       "      <td>0.000000</td>\n",
       "      <td>0.025</td>\n",
       "      <td>0.032164</td>\n",
       "      <td>0.0</td>\n",
       "      <td>1.0</td>\n",
       "      <td>0.0</td>\n",
       "      <td>0.0</td>\n",
       "      <td>0.0</td>\n",
       "      <td>0.0</td>\n",
       "      <td>0.0</td>\n",
       "      <td>0.000712</td>\n",
       "    </tr>\n",
       "    <tr>\n",
       "      <th>4</th>\n",
       "      <td>0.037179</td>\n",
       "      <td>0.040816</td>\n",
       "      <td>0.030612</td>\n",
       "      <td>0.075</td>\n",
       "      <td>0.956140</td>\n",
       "      <td>0.0</td>\n",
       "      <td>1.0</td>\n",
       "      <td>0.0</td>\n",
       "      <td>0.0</td>\n",
       "      <td>0.0</td>\n",
       "      <td>0.0</td>\n",
       "      <td>0.0</td>\n",
       "      <td>0.003725</td>\n",
       "    </tr>\n",
       "  </tbody>\n",
       "</table>\n",
       "</div>"
      ],
      "text/plain": [
       "   postalCode       bed      bath    car  suburbs_encoded  \\\n",
       "0    0.037179  0.030612  0.010204  0.025         0.032164   \n",
       "1    0.037179  0.030612  0.020408  0.075         0.032164   \n",
       "2    0.037179  0.020408  0.020408  0.025         0.956140   \n",
       "3    0.037179  0.020408  0.000000  0.025         0.032164   \n",
       "4    0.037179  0.040816  0.030612  0.075         0.956140   \n",
       "\n",
       "   pt_duplex/semi-detached  pt_house  pt_other  pt_terrace  pt_townhouse  \\\n",
       "0                      0.0       1.0       0.0         0.0           0.0   \n",
       "1                      0.0       1.0       0.0         0.0           0.0   \n",
       "2                      0.0       1.0       0.0         0.0           0.0   \n",
       "3                      0.0       1.0       0.0         0.0           0.0   \n",
       "4                      0.0       1.0       0.0         0.0           0.0   \n",
       "\n",
       "   pt_villa  pt_warehouse    TARGET  \n",
       "0       0.0           0.0  0.000563  \n",
       "1       0.0           0.0  0.001048  \n",
       "2       0.0           0.0  0.001360  \n",
       "3       0.0           0.0  0.000712  \n",
       "4       0.0           0.0  0.003725  "
      ]
     },
     "execution_count": 20,
     "metadata": {},
     "output_type": "execute_result"
    }
   ],
   "source": [
    "df_scaling = df_drop.copy()\n",
    "mms = MinMaxScaler()\n",
    "df_scaling.iloc[:]= mms.fit_transform(df_scaling)\n",
    "df_scaling.head()"
   ]
  },
  {
   "cell_type": "markdown",
   "id": "db21e98a-87ba-4f79-a29b-0876f6fa9b58",
   "metadata": {},
   "source": [
    "### Train Test Split"
   ]
  },
  {
   "cell_type": "code",
   "execution_count": 21,
   "id": "8277de75-6062-4d3d-867b-d6081c7da7a4",
   "metadata": {},
   "outputs": [
    {
     "data": {
      "text/html": [
       "<div>\n",
       "<style scoped>\n",
       "    .dataframe tbody tr th:only-of-type {\n",
       "        vertical-align: middle;\n",
       "    }\n",
       "\n",
       "    .dataframe tbody tr th {\n",
       "        vertical-align: top;\n",
       "    }\n",
       "\n",
       "    .dataframe thead th {\n",
       "        text-align: right;\n",
       "    }\n",
       "</style>\n",
       "<table border=\"1\" class=\"dataframe\">\n",
       "  <thead>\n",
       "    <tr style=\"text-align: right;\">\n",
       "      <th></th>\n",
       "      <th>postalCode</th>\n",
       "      <th>bed</th>\n",
       "      <th>bath</th>\n",
       "      <th>car</th>\n",
       "      <th>suburbs_encoded</th>\n",
       "      <th>pt_duplex/semi-detached</th>\n",
       "      <th>pt_house</th>\n",
       "      <th>pt_other</th>\n",
       "      <th>pt_terrace</th>\n",
       "      <th>pt_townhouse</th>\n",
       "      <th>pt_villa</th>\n",
       "      <th>pt_warehouse</th>\n",
       "      <th>TARGET</th>\n",
       "    </tr>\n",
       "  </thead>\n",
       "  <tbody>\n",
       "    <tr>\n",
       "      <th>0</th>\n",
       "      <td>2107</td>\n",
       "      <td>4.0</td>\n",
       "      <td>2</td>\n",
       "      <td>2.0</td>\n",
       "      <td>22</td>\n",
       "      <td>0</td>\n",
       "      <td>1</td>\n",
       "      <td>0</td>\n",
       "      <td>0</td>\n",
       "      <td>0</td>\n",
       "      <td>0</td>\n",
       "      <td>0</td>\n",
       "      <td>1210000</td>\n",
       "    </tr>\n",
       "    <tr>\n",
       "      <th>1</th>\n",
       "      <td>2107</td>\n",
       "      <td>4.0</td>\n",
       "      <td>3</td>\n",
       "      <td>4.0</td>\n",
       "      <td>22</td>\n",
       "      <td>0</td>\n",
       "      <td>1</td>\n",
       "      <td>0</td>\n",
       "      <td>0</td>\n",
       "      <td>0</td>\n",
       "      <td>0</td>\n",
       "      <td>0</td>\n",
       "      <td>2250000</td>\n",
       "    </tr>\n",
       "    <tr>\n",
       "      <th>2</th>\n",
       "      <td>2107</td>\n",
       "      <td>3.0</td>\n",
       "      <td>3</td>\n",
       "      <td>2.0</td>\n",
       "      <td>654</td>\n",
       "      <td>0</td>\n",
       "      <td>1</td>\n",
       "      <td>0</td>\n",
       "      <td>0</td>\n",
       "      <td>0</td>\n",
       "      <td>0</td>\n",
       "      <td>0</td>\n",
       "      <td>2920000</td>\n",
       "    </tr>\n",
       "    <tr>\n",
       "      <th>3</th>\n",
       "      <td>2107</td>\n",
       "      <td>3.0</td>\n",
       "      <td>1</td>\n",
       "      <td>2.0</td>\n",
       "      <td>22</td>\n",
       "      <td>0</td>\n",
       "      <td>1</td>\n",
       "      <td>0</td>\n",
       "      <td>0</td>\n",
       "      <td>0</td>\n",
       "      <td>0</td>\n",
       "      <td>0</td>\n",
       "      <td>1530000</td>\n",
       "    </tr>\n",
       "    <tr>\n",
       "      <th>4</th>\n",
       "      <td>2107</td>\n",
       "      <td>5.0</td>\n",
       "      <td>4</td>\n",
       "      <td>4.0</td>\n",
       "      <td>654</td>\n",
       "      <td>0</td>\n",
       "      <td>1</td>\n",
       "      <td>0</td>\n",
       "      <td>0</td>\n",
       "      <td>0</td>\n",
       "      <td>0</td>\n",
       "      <td>0</td>\n",
       "      <td>8000000</td>\n",
       "    </tr>\n",
       "  </tbody>\n",
       "</table>\n",
       "</div>"
      ],
      "text/plain": [
       "   postalCode  bed  bath  car  suburbs_encoded  pt_duplex/semi-detached  \\\n",
       "0        2107  4.0     2  2.0               22                        0   \n",
       "1        2107  4.0     3  4.0               22                        0   \n",
       "2        2107  3.0     3  2.0              654                        0   \n",
       "3        2107  3.0     1  2.0               22                        0   \n",
       "4        2107  5.0     4  4.0              654                        0   \n",
       "\n",
       "   pt_house  pt_other  pt_terrace  pt_townhouse  pt_villa  pt_warehouse  \\\n",
       "0         1         0           0             0         0             0   \n",
       "1         1         0           0             0         0             0   \n",
       "2         1         0           0             0         0             0   \n",
       "3         1         0           0             0         0             0   \n",
       "4         1         0           0             0         0             0   \n",
       "\n",
       "    TARGET  \n",
       "0  1210000  \n",
       "1  2250000  \n",
       "2  2920000  \n",
       "3  1530000  \n",
       "4  8000000  "
      ]
     },
     "execution_count": 21,
     "metadata": {},
     "output_type": "execute_result"
    }
   ],
   "source": [
    "is_deep_learning = False\n",
    "df_tts = df_scaling.copy() if is_deep_learning else df_drop.copy()\n",
    "df_tts.head()"
   ]
  },
  {
   "cell_type": "code",
   "execution_count": 22,
   "id": "8a4323ab-e2d3-4658-a6be-2599415e2025",
   "metadata": {},
   "outputs": [],
   "source": [
    "# Split X and y data"
   ]
  },
  {
   "cell_type": "code",
   "execution_count": 23,
   "id": "2314356c-96d9-42bb-990f-1f90b5ad43f3",
   "metadata": {},
   "outputs": [
    {
     "name": "stdout",
     "output_type": "stream",
     "text": [
      "X Values: \n",
      " [[2.107e+03 4.000e+00 2.000e+00 2.000e+00 2.200e+01 0.000e+00 1.000e+00\n",
      "  0.000e+00 0.000e+00 0.000e+00 0.000e+00 0.000e+00]\n",
      " [2.107e+03 4.000e+00 3.000e+00 4.000e+00 2.200e+01 0.000e+00 1.000e+00\n",
      "  0.000e+00 0.000e+00 0.000e+00 0.000e+00 0.000e+00]]\n",
      "Y Values: \n",
      " [1210000 2250000 2920000 1530000 8000000]\n"
     ]
    }
   ],
   "source": [
    "X = df_tts.iloc[:, :-1].values\n",
    "y = df_tts.iloc[:, -1].values\n",
    "\n",
    "print(\"X Values: \\n\", X[:2])\n",
    "print(\"Y Values: \\n\", y[:5])"
   ]
  },
  {
   "cell_type": "code",
   "execution_count": 26,
   "id": "e51e35c7-1232-494a-86ca-b6981977f599",
   "metadata": {},
   "outputs": [
    {
     "name": "stdout",
     "output_type": "stream",
     "text": [
      "X_train:  (179553, 12)\n",
      "X_test:  (19951, 12)\n",
      "y_train:  (179553,)\n",
      "y_test:  (19951,)\n"
     ]
    }
   ],
   "source": [
    "# Train Test Split\n",
    "X_train, X_test, y_train, y_test = train_test_split(X, y, test_size=0.1, random_state=1, shuffle=True)\n",
    "print(\"X_train: \", X_train.shape)\n",
    "print(\"X_test: \", X_test.shape)\n",
    "print(\"y_train: \", y_train.shape)\n",
    "print(\"y_test: \", y_test.shape)"
   ]
  },
  {
   "cell_type": "markdown",
   "id": "c0590026-0e6b-4808-bc3a-d71ebebc45f2",
   "metadata": {},
   "source": [
    "### Machine Learning"
   ]
  },
  {
   "cell_type": "code",
   "execution_count": 29,
   "id": "7a32f5cd-59e2-4e2e-909a-6e9837ec0343",
   "metadata": {},
   "outputs": [
    {
     "data": {
      "text/plain": [
       "RandomForestRegressor(max_depth=10, random_state=0)"
      ]
     },
     "execution_count": 29,
     "metadata": {},
     "output_type": "execute_result"
    }
   ],
   "source": [
    "# Train Regressor\n",
    "regressor = RandomForestRegressor(n_estimators=100, max_depth=10, random_state=0)\n",
    "regressor.fit(X_train, y_train)"
   ]
  },
  {
   "cell_type": "code",
   "execution_count": 34,
   "id": "73a9b292-bc83-4b36-bbb1-907fce10dae7",
   "metadata": {},
   "outputs": [
    {
     "name": "stdout",
     "output_type": "stream",
     "text": [
      "Test Predictions [590029.0, 2022675.0, 1112679.0, 1045638.0, 869990.0]\n",
      "Test actuals [ 730000 1350100  860000 1390000  985000]\n"
     ]
    }
   ],
   "source": [
    "# Make Predictions on Test Set\n",
    "y_pred = regressor.predict(X_test)\n",
    "y_pred = [round(x, 0) for x in y_pred]\n",
    "print(\"Test Predictions\", y_pred[:5])\n",
    "print(\"Test actuals\", y_test[:5])"
   ]
  },
  {
   "cell_type": "code",
   "execution_count": 36,
   "id": "88bfc23a-2d2a-44d4-9176-9af5460ec6f8",
   "metadata": {},
   "outputs": [],
   "source": [
    "# Check Accuracy\n",
    "cv = RepeatedKFold(n_splits=5, n_repeats=3, random_state=1)\n",
    "n_scores = cross_val_score(regressor, X_train, y_train, scoring=\"neg_mean_absolute_error\", cv=cv, n_jobs=1,\n",
    "                           error_score=\"raise\")"
   ]
  },
  {
   "cell_type": "code",
   "execution_count": 37,
   "id": "9ccacc87-433a-4aa8-a5cb-9f8466c0b875",
   "metadata": {},
   "outputs": [
    {
     "name": "stdout",
     "output_type": "stream",
     "text": [
      "20152.482105475094\n"
     ]
    }
   ],
   "source": [
    "# Report Performance\n",
    "print(n_scores.std())"
   ]
  },
  {
   "cell_type": "code",
   "execution_count": null,
   "id": "da1b0d2a-b552-4841-819b-997830c221f9",
   "metadata": {},
   "outputs": [],
   "source": []
  },
  {
   "cell_type": "code",
   "execution_count": null,
   "id": "1d5bd702-7dc4-4805-a4dc-82227e3bc8fa",
   "metadata": {},
   "outputs": [],
   "source": []
  }
 ],
 "metadata": {
  "kernelspec": {
   "display_name": "Python 3 (ipykernel)",
   "language": "python",
   "name": "python3"
  },
  "language_info": {
   "codemirror_mode": {
    "name": "ipython",
    "version": 3
   },
   "file_extension": ".py",
   "mimetype": "text/x-python",
   "name": "python",
   "nbconvert_exporter": "python",
   "pygments_lexer": "ipython3",
   "version": "3.9.23"
  }
 },
 "nbformat": 4,
 "nbformat_minor": 5
}
