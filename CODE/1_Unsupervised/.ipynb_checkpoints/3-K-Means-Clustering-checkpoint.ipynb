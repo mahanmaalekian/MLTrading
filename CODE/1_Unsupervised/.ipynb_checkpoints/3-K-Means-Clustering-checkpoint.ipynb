{
 "cells": [
  {
   "cell_type": "markdown",
   "id": "e892cc23-4652-4e0d-8916-6b7af59a372f",
   "metadata": {},
   "source": [
    "### Imports"
   ]
  },
  {
   "cell_type": "code",
   "execution_count": 2,
   "id": "10e8d2a3-bef5-43f5-93de-356873a2c332",
   "metadata": {},
   "outputs": [],
   "source": [
    "# Remove unwanted warnings\n",
    "\n",
    "import warnings\n",
    "warnings.simplefilter(action='ignore', category=FutureWarning)\n",
    "\n",
    "# Data extraction and management\n",
    "import pandas as pd\n",
    "import numpy as np\n",
    "import yfinance as yf\n",
    "\n",
    "# Feature Engineering\n",
    "from sklearn.preprocessing import StandardScaler\n",
    "\n",
    "# Machine Learning\n",
    "from sklearn.cluster import KMeans\n",
    "from sklearn import metrics\n",
    "from kneed import KneeLocator\n",
    "\n",
    "# Cointegration and Statistics\n",
    "from statsmodels.tsa.stattools import coint\n",
    "import statsmodels.api as sm\n",
    "\n",
    "# Reporting visualization\n",
    "from sklearn.manifold import TSNE\n",
    "import matplotlib.pyplot as plt\n",
    "import matplotlib.cm as cm\n",
    "\n",
    "from pandas_datareader.data import DataReader\n",
    "from pandas_datareader.nasdaq_trader import get_nasdaq_symbols\n",
    "\n",
    "\n",
    "%matplotlib inline"
   ]
  },
  {
   "cell_type": "markdown",
   "id": "7edb8e65-3dd8-4dd4-97d1-f2034ee41e16",
   "metadata": {},
   "source": [
    "### Data Extraction"
   ]
  },
  {
   "cell_type": "code",
   "execution_count": 3,
   "id": "aaafd67e-9dbb-49b5-9dde-c02cdcd387c2",
   "metadata": {},
   "outputs": [],
   "source": [
    "# Set Data Extraction parameters\n",
    "start_date = \"2022-01-01\"\n",
    "end_date = \"2025-06-01\"\n",
    "file_name = \"data/raw_data_etf.csv\"\n",
    "file_name_coint = \"data/raw_data_coint_pairs.csv\"\n",
    "\n",
    "load_existing = False\n",
    "load_coint_pairs = False\n",
    "\n",
    "    "
   ]
  },
  {
   "cell_type": "code",
   "execution_count": 4,
   "id": "d13882ab-58d7-45aa-8966-53011619d8a0",
   "metadata": {},
   "outputs": [],
   "source": [
    "# Get New or Load Existing Data\n",
    "# Takes a long time\n",
    "if not load_existing:\n",
    "    symbols = get_nasdaq_symbols()\n",
    "    symbols = symbols[(symbols[\"ETF\"] == True) & (symbols[\"Market Category\"] == \"G\")] # G = NASDAQ GLOBAL MARKET\n",
    "    symbols = list(symbols.index.values)"
   ]
  },
  {
   "cell_type": "code",
   "execution_count": 5,
   "id": "72448fe3-bf0f-4515-b19c-f167775a36c2",
   "metadata": {},
   "outputs": [
    {
     "data": {
      "text/plain": [
       "959"
      ]
     },
     "execution_count": 5,
     "metadata": {},
     "output_type": "execute_result"
    }
   ],
   "source": [
    "len(symbols)"
   ]
  },
  {
   "cell_type": "code",
   "execution_count": 6,
   "id": "8af6eef9-6a7e-4f55-86d8-69c7ad4291f4",
   "metadata": {},
   "outputs": [
    {
     "name": "stderr",
     "output_type": "stream",
     "text": [
      "[*********************100%***********************]  959 of 959 completed\n",
      "\n",
      "95 Failed downloads:\n",
      "['HIMY', 'SHPD', 'MSDD', 'QQUP', 'CSCL', 'SPXD', 'DVRE', 'YNOT', 'COYY', 'KMLI', 'QB', 'CRCG', 'BSCZ', 'OTGL', 'DVXE', 'MSTP', 'PDDL', 'DVXC', 'DVIN', 'DVXV', 'CRWG', 'TAXI', 'CPAG', 'VSTL', 'AFOS', 'CPHY', 'JPX', 'QCMD', 'AALG', 'RTXG', 'ABI', 'TAXT', 'FRDU', 'EXUS', 'FFUT', 'NOWL', 'AAUS', 'QPUX', 'DVXY', 'DKNX', 'LMTL', 'PLTZ', 'DGLO', 'HBDC', 'BASV', 'TURF', 'BULG', 'FGSI', 'DAK', 'AIPO', 'SOUX', 'BSJX', 'TMED', 'OKLL', 'KAT', 'KOID', 'SHPU', 'DVXP', 'HOOI', 'IFLO', 'BASG', 'TRUT', 'LMTS', 'BOEG', 'SMCC', 'AVGU', 'QALT', 'TAXS', 'IONZ', 'VIXI', 'GRIN', 'CCFE', 'PLT', 'JHAI', 'DVUT', 'DVXB', 'UNHG', 'MULT', 'BAIG', 'QCMU', 'QQXL', 'TRUD', 'DADS', 'GKAT', 'TFNS', 'GLGG', 'DVXF', 'TEXN', 'QGRD', 'AMDU', 'CSCS', 'FRDD', 'QQDN', 'DVXK', 'WTIP']: YFPricesMissingError('possibly delisted; no price data found  (1d 2022-01-01 -> 2025-06-01) (Yahoo error = \"Data doesn\\'t exist for startDate = 1641013200, endDate = 1748750400\")')\n"
     ]
    }
   ],
   "source": [
    "df = pd.DataFrame()\n",
    "data = yf.download(symbols, start=start_date, end=end_date)[\"Close\"]\n",
    "# data.to_csv(file_name)"
   ]
  },
  {
   "cell_type": "code",
   "execution_count": 7,
   "id": "e2125717-00c8-439a-8055-fd0d292ca3d9",
   "metadata": {},
   "outputs": [],
   "source": [
    "data.to_csv(file_name)"
   ]
  },
  {
   "cell_type": "code",
   "execution_count": 9,
   "id": "f2d0e5fb-9ed5-4926-849b-18ec5d9441b1",
   "metadata": {},
   "outputs": [
    {
     "name": "stdout",
     "output_type": "stream",
     "text": [
      "Shape:  (855, 385)\n",
      "Null Vallues:  False\n"
     ]
    },
    {
     "data": {
      "text/html": [
       "<div>\n",
       "<style scoped>\n",
       "    .dataframe tbody tr th:only-of-type {\n",
       "        vertical-align: middle;\n",
       "    }\n",
       "\n",
       "    .dataframe tbody tr th {\n",
       "        vertical-align: top;\n",
       "    }\n",
       "\n",
       "    .dataframe thead th {\n",
       "        text-align: right;\n",
       "    }\n",
       "</style>\n",
       "<table border=\"1\" class=\"dataframe\">\n",
       "  <thead>\n",
       "    <tr style=\"text-align: right;\">\n",
       "      <th></th>\n",
       "      <th>AADR</th>\n",
       "      <th>AAVM</th>\n",
       "      <th>AAXJ</th>\n",
       "      <th>ACWI</th>\n",
       "      <th>ACWX</th>\n",
       "      <th>AGNG</th>\n",
       "      <th>AGZD</th>\n",
       "      <th>AIA</th>\n",
       "      <th>AIQ</th>\n",
       "      <th>AIRR</th>\n",
       "      <th>...</th>\n",
       "      <th>VTWV</th>\n",
       "      <th>VWOB</th>\n",
       "      <th>VXUS</th>\n",
       "      <th>VYMI</th>\n",
       "      <th>WCBR</th>\n",
       "      <th>WCLD</th>\n",
       "      <th>WOOD</th>\n",
       "      <th>XOVR</th>\n",
       "      <th>XT</th>\n",
       "      <th>YLDE</th>\n",
       "    </tr>\n",
       "    <tr>\n",
       "      <th>Date</th>\n",
       "      <th></th>\n",
       "      <th></th>\n",
       "      <th></th>\n",
       "      <th></th>\n",
       "      <th></th>\n",
       "      <th></th>\n",
       "      <th></th>\n",
       "      <th></th>\n",
       "      <th></th>\n",
       "      <th></th>\n",
       "      <th></th>\n",
       "      <th></th>\n",
       "      <th></th>\n",
       "      <th></th>\n",
       "      <th></th>\n",
       "      <th></th>\n",
       "      <th></th>\n",
       "      <th></th>\n",
       "      <th></th>\n",
       "      <th></th>\n",
       "      <th></th>\n",
       "    </tr>\n",
       "  </thead>\n",
       "  <tbody>\n",
       "    <tr>\n",
       "      <th>2022-01-03</th>\n",
       "      <td>60.547958</td>\n",
       "      <td>24.521076</td>\n",
       "      <td>78.096153</td>\n",
       "      <td>100.008400</td>\n",
       "      <td>50.674938</td>\n",
       "      <td>28.064827</td>\n",
       "      <td>18.941515</td>\n",
       "      <td>70.461159</td>\n",
       "      <td>31.578905</td>\n",
       "      <td>44.886452</td>\n",
       "      <td>...</td>\n",
       "      <td>137.374893</td>\n",
       "      <td>62.606052</td>\n",
       "      <td>57.461765</td>\n",
       "      <td>57.402676</td>\n",
       "      <td>25.503109</td>\n",
       "      <td>51.299999</td>\n",
       "      <td>85.437965</td>\n",
       "      <td>14.970</td>\n",
       "      <td>65.015892</td>\n",
       "      <td>40.110004</td>\n",
       "    </tr>\n",
       "    <tr>\n",
       "      <th>2022-01-04</th>\n",
       "      <td>60.529152</td>\n",
       "      <td>24.741039</td>\n",
       "      <td>77.777344</td>\n",
       "      <td>99.923759</td>\n",
       "      <td>50.765560</td>\n",
       "      <td>27.938366</td>\n",
       "      <td>18.921259</td>\n",
       "      <td>70.479462</td>\n",
       "      <td>31.083782</td>\n",
       "      <td>45.640682</td>\n",
       "      <td>...</td>\n",
       "      <td>138.495239</td>\n",
       "      <td>62.671188</td>\n",
       "      <td>57.533627</td>\n",
       "      <td>57.869431</td>\n",
       "      <td>24.447641</td>\n",
       "      <td>49.209999</td>\n",
       "      <td>85.596825</td>\n",
       "      <td>14.655</td>\n",
       "      <td>64.134926</td>\n",
       "      <td>40.400589</td>\n",
       "    </tr>\n",
       "    <tr>\n",
       "      <th>2022-01-05</th>\n",
       "      <td>59.551517</td>\n",
       "      <td>24.374435</td>\n",
       "      <td>76.483406</td>\n",
       "      <td>98.296776</td>\n",
       "      <td>50.212776</td>\n",
       "      <td>27.409168</td>\n",
       "      <td>18.937468</td>\n",
       "      <td>69.069153</td>\n",
       "      <td>30.014317</td>\n",
       "      <td>44.509342</td>\n",
       "      <td>...</td>\n",
       "      <td>135.302216</td>\n",
       "      <td>61.930218</td>\n",
       "      <td>56.958824</td>\n",
       "      <td>57.648777</td>\n",
       "      <td>23.359194</td>\n",
       "      <td>46.299999</td>\n",
       "      <td>84.802528</td>\n",
       "      <td>13.970</td>\n",
       "      <td>62.382763</td>\n",
       "      <td>40.400589</td>\n",
       "    </tr>\n",
       "    <tr>\n",
       "      <th>2022-01-06</th>\n",
       "      <td>59.842930</td>\n",
       "      <td>24.308449</td>\n",
       "      <td>76.849091</td>\n",
       "      <td>98.089867</td>\n",
       "      <td>50.158401</td>\n",
       "      <td>26.941259</td>\n",
       "      <td>18.949615</td>\n",
       "      <td>69.572838</td>\n",
       "      <td>30.004416</td>\n",
       "      <td>44.866600</td>\n",
       "      <td>...</td>\n",
       "      <td>136.338547</td>\n",
       "      <td>61.881390</td>\n",
       "      <td>56.797165</td>\n",
       "      <td>57.793049</td>\n",
       "      <td>23.405170</td>\n",
       "      <td>46.619999</td>\n",
       "      <td>85.176308</td>\n",
       "      <td>13.994</td>\n",
       "      <td>62.069530</td>\n",
       "      <td>39.955032</td>\n",
       "    </tr>\n",
       "    <tr>\n",
       "      <th>2022-01-07</th>\n",
       "      <td>59.842930</td>\n",
       "      <td>24.259874</td>\n",
       "      <td>77.571068</td>\n",
       "      <td>98.071060</td>\n",
       "      <td>50.384953</td>\n",
       "      <td>26.986984</td>\n",
       "      <td>18.917215</td>\n",
       "      <td>70.351265</td>\n",
       "      <td>29.885586</td>\n",
       "      <td>44.089546</td>\n",
       "      <td>...</td>\n",
       "      <td>135.769043</td>\n",
       "      <td>61.710407</td>\n",
       "      <td>57.048641</td>\n",
       "      <td>58.412563</td>\n",
       "      <td>23.329206</td>\n",
       "      <td>46.270000</td>\n",
       "      <td>85.783714</td>\n",
       "      <td>13.798</td>\n",
       "      <td>61.638832</td>\n",
       "      <td>40.086945</td>\n",
       "    </tr>\n",
       "  </tbody>\n",
       "</table>\n",
       "<p>5 rows × 385 columns</p>\n",
       "</div>"
      ],
      "text/plain": [
       "                 AADR       AAVM       AAXJ        ACWI       ACWX       AGNG  \\\n",
       "Date                                                                            \n",
       "2022-01-03  60.547958  24.521076  78.096153  100.008400  50.674938  28.064827   \n",
       "2022-01-04  60.529152  24.741039  77.777344   99.923759  50.765560  27.938366   \n",
       "2022-01-05  59.551517  24.374435  76.483406   98.296776  50.212776  27.409168   \n",
       "2022-01-06  59.842930  24.308449  76.849091   98.089867  50.158401  26.941259   \n",
       "2022-01-07  59.842930  24.259874  77.571068   98.071060  50.384953  26.986984   \n",
       "\n",
       "                 AGZD        AIA        AIQ       AIRR  ...        VTWV  \\\n",
       "Date                                                    ...               \n",
       "2022-01-03  18.941515  70.461159  31.578905  44.886452  ...  137.374893   \n",
       "2022-01-04  18.921259  70.479462  31.083782  45.640682  ...  138.495239   \n",
       "2022-01-05  18.937468  69.069153  30.014317  44.509342  ...  135.302216   \n",
       "2022-01-06  18.949615  69.572838  30.004416  44.866600  ...  136.338547   \n",
       "2022-01-07  18.917215  70.351265  29.885586  44.089546  ...  135.769043   \n",
       "\n",
       "                 VWOB       VXUS       VYMI       WCBR       WCLD       WOOD  \\\n",
       "Date                                                                           \n",
       "2022-01-03  62.606052  57.461765  57.402676  25.503109  51.299999  85.437965   \n",
       "2022-01-04  62.671188  57.533627  57.869431  24.447641  49.209999  85.596825   \n",
       "2022-01-05  61.930218  56.958824  57.648777  23.359194  46.299999  84.802528   \n",
       "2022-01-06  61.881390  56.797165  57.793049  23.405170  46.619999  85.176308   \n",
       "2022-01-07  61.710407  57.048641  58.412563  23.329206  46.270000  85.783714   \n",
       "\n",
       "              XOVR         XT       YLDE  \n",
       "Date                                      \n",
       "2022-01-03  14.970  65.015892  40.110004  \n",
       "2022-01-04  14.655  64.134926  40.400589  \n",
       "2022-01-05  13.970  62.382763  40.400589  \n",
       "2022-01-06  13.994  62.069530  39.955032  \n",
       "2022-01-07  13.798  61.638832  40.086945  \n",
       "\n",
       "[5 rows x 385 columns]"
      ]
     },
     "execution_count": 9,
     "metadata": {},
     "output_type": "execute_result"
    }
   ],
   "source": [
    "# Load (or re-load for consistency) Data and remove features with NaN's\n",
    "data = pd.read_csv(file_name)\n",
    "data.dropna(axis=1, inplace=True)\n",
    "data = data.set_index(\"Date\")\n",
    "print(\"Shape: \", data.shape)\n",
    "print(\"Null Vallues: \", data.isnull().values.any())\n",
    "data.head()\n",
    "\n"
   ]
  },
  {
   "cell_type": "markdown",
   "id": "94bdb919-70aa-4fc1-9992-1bc623eccd35",
   "metadata": {},
   "source": [
    "### Feature Engineering"
   ]
  },
  {
   "cell_type": "code",
   "execution_count": 10,
   "id": "89ce6e22-2ddc-4973-b18f-d168e61d94ab",
   "metadata": {},
   "outputs": [
    {
     "data": {
      "text/html": [
       "<div>\n",
       "<style scoped>\n",
       "    .dataframe tbody tr th:only-of-type {\n",
       "        vertical-align: middle;\n",
       "    }\n",
       "\n",
       "    .dataframe tbody tr th {\n",
       "        vertical-align: top;\n",
       "    }\n",
       "\n",
       "    .dataframe thead th {\n",
       "        text-align: right;\n",
       "    }\n",
       "</style>\n",
       "<table border=\"1\" class=\"dataframe\">\n",
       "  <thead>\n",
       "    <tr style=\"text-align: right;\">\n",
       "      <th></th>\n",
       "      <th>Returns</th>\n",
       "      <th>Volatility</th>\n",
       "    </tr>\n",
       "  </thead>\n",
       "  <tbody>\n",
       "    <tr>\n",
       "      <th>AADR</th>\n",
       "      <td>0.098191</td>\n",
       "      <td>0.223337</td>\n",
       "    </tr>\n",
       "    <tr>\n",
       "      <th>AAVM</th>\n",
       "      <td>0.034461</td>\n",
       "      <td>0.175080</td>\n",
       "    </tr>\n",
       "    <tr>\n",
       "      <th>AAXJ</th>\n",
       "      <td>0.016452</td>\n",
       "      <td>0.205587</td>\n",
       "    </tr>\n",
       "    <tr>\n",
       "      <th>ACWI</th>\n",
       "      <td>0.076589</td>\n",
       "      <td>0.176438</td>\n",
       "    </tr>\n",
       "    <tr>\n",
       "      <th>ACWX</th>\n",
       "      <td>0.058376</td>\n",
       "      <td>0.171996</td>\n",
       "    </tr>\n",
       "  </tbody>\n",
       "</table>\n",
       "</div>"
      ],
      "text/plain": [
       "       Returns  Volatility\n",
       "AADR  0.098191    0.223337\n",
       "AAVM  0.034461    0.175080\n",
       "AAXJ  0.016452    0.205587\n",
       "ACWI  0.076589    0.176438\n",
       "ACWX  0.058376    0.171996"
      ]
     },
     "execution_count": 10,
     "metadata": {},
     "output_type": "execute_result"
    }
   ],
   "source": [
    "# Create DataFrame with Returns and Volatiltity information\n",
    "df_returns = pd.DataFrame(data.pct_change().mean() * 255, columns=[\"Returns\"])\n",
    "df_returns[\"Volatility\"] = data.pct_change().std() * np.sqrt(255)\n",
    "df_returns.head()"
   ]
  },
  {
   "cell_type": "code",
   "execution_count": 12,
   "id": "19359d3b-f924-4e46-b2f4-51a88623872b",
   "metadata": {},
   "outputs": [
    {
     "data": {
      "text/html": [
       "<div>\n",
       "<style scoped>\n",
       "    .dataframe tbody tr th:only-of-type {\n",
       "        vertical-align: middle;\n",
       "    }\n",
       "\n",
       "    .dataframe tbody tr th {\n",
       "        vertical-align: top;\n",
       "    }\n",
       "\n",
       "    .dataframe thead th {\n",
       "        text-align: right;\n",
       "    }\n",
       "</style>\n",
       "<table border=\"1\" class=\"dataframe\">\n",
       "  <thead>\n",
       "    <tr style=\"text-align: right;\">\n",
       "      <th></th>\n",
       "      <th>Returns</th>\n",
       "      <th>Volatility</th>\n",
       "    </tr>\n",
       "  </thead>\n",
       "  <tbody>\n",
       "    <tr>\n",
       "      <th>AADR</th>\n",
       "      <td>0.833750</td>\n",
       "      <td>0.192934</td>\n",
       "    </tr>\n",
       "    <tr>\n",
       "      <th>AAVM</th>\n",
       "      <td>-0.107131</td>\n",
       "      <td>-0.208640</td>\n",
       "    </tr>\n",
       "    <tr>\n",
       "      <th>AAXJ</th>\n",
       "      <td>-0.373009</td>\n",
       "      <td>0.045229</td>\n",
       "    </tr>\n",
       "    <tr>\n",
       "      <th>ACWI</th>\n",
       "      <td>0.514822</td>\n",
       "      <td>-0.197339</td>\n",
       "    </tr>\n",
       "    <tr>\n",
       "      <th>ACWX</th>\n",
       "      <td>0.245936</td>\n",
       "      <td>-0.234298</td>\n",
       "    </tr>\n",
       "  </tbody>\n",
       "</table>\n",
       "</div>"
      ],
      "text/plain": [
       "       Returns  Volatility\n",
       "AADR  0.833750    0.192934\n",
       "AAVM -0.107131   -0.208640\n",
       "AAXJ -0.373009    0.045229\n",
       "ACWI  0.514822   -0.197339\n",
       "ACWX  0.245936   -0.234298"
      ]
     },
     "execution_count": 12,
     "metadata": {},
     "output_type": "execute_result"
    }
   ],
   "source": [
    "# Scale Features\n",
    "scaler = StandardScaler()\n",
    "scaler = scaler.fit_transform(df_returns)\n",
    "scaled_data = pd.DataFrame(scaler, columns=df_returns.columns, index=df_returns.index)\n",
    "df_scaled = scaled_data\n",
    "df_scaled.head()"
   ]
  },
  {
   "cell_type": "markdown",
   "id": "fcd8ac45-161a-43eb-9871-53f93c9585eb",
   "metadata": {},
   "source": [
    "### K-Means Clustering"
   ]
  },
  {
   "cell_type": "code",
   "execution_count": 15,
   "id": "c5bfab13-789f-43ae-9ce9-799c7d6582ba",
   "metadata": {},
   "outputs": [
    {
     "name": "stdout",
     "output_type": "stream",
     "text": [
      "Optimum Clusters:  5\n"
     ]
    }
   ],
   "source": [
    "# Find the optimum number of clusters\n",
    "X = df_scaled.copy()\n",
    "K = range(1, 15)\n",
    "distortions = []\n",
    "for k in K:\n",
    "    kmeans = KMeans(n_clusters=k)\n",
    "    kmeans.fit(X)\n",
    "    distortions.append(kmeans.inertia_)\n",
    "\n",
    "kl = KneeLocator(K, distortions, curve=\"convex\", direction=\"decreasing\")\n",
    "c = kl.elbow\n",
    "print(\"Optimum Clusters: \", c)"
   ]
  },
  {
   "cell_type": "code",
   "execution_count": 16,
   "id": "7d2fcd8e-f2c8-417b-ba0b-2707f21403e3",
   "metadata": {},
   "outputs": [],
   "source": [
    "# Fit K-Means Model\n",
    "k_means = KMeans(n_clusters=c)\n",
    "k_means.fit(X)\n",
    "prediction = k_means.predict(df_scaled)"
   ]
  },
  {
   "cell_type": "code",
   "execution_count": 18,
   "id": "0eba2377-fcea-44c9-9f73-9c7fcb4f53fc",
   "metadata": {},
   "outputs": [
    {
     "data": {
      "text/plain": [
       "[<matplotlib.lines.Line2D at 0x722194c7c880>]"
      ]
     },
     "execution_count": 18,
     "metadata": {},
     "output_type": "execute_result"
    },
    {
     "data": {
      "image/png": "[encoded data removed]",
      "text/plain": [
       "<Figure size 1800x1000 with 2 Axes>"
      ]
     },
     "metadata": {},
     "output_type": "display_data"
    }
   ],
   "source": [
    "# Show Results\n",
    "centroids = k_means.cluster_centers_\n",
    "fig = plt.figure(figsize = (18, 10))\n",
    "ax = fig.add_subplot(111)\n",
    "scatter = ax.scatter(X.iloc[:,0], X.iloc[:,1], c=k_means.labels_, cmap=\"rainbow\", label=X.index)\n",
    "ax.set_title(\"K-Means Cluster Analysis Resutls\")\n",
    "ax.set_xlabel(\"Mean Return\")\n",
    "ax.set_ylabel(\"Volatility\")\n",
    "plt.colorbar(scatter)\n",
    "plt.plot(centroids[:,0], centroids[:,1], \"sg\", markersize=10)"
   ]
  },
  {
   "cell_type": "code",
   "execution_count": null,
   "id": "6bd65dd8-ba3c-46f6-9ab7-33a7399fe8ce",
   "metadata": {},
   "outputs": [],
   "source": []
  },
  {
   "cell_type": "code",
   "execution_count": null,
   "id": "d55946e5-ee1e-434c-ab56-06d561aeaca9",
   "metadata": {},
   "outputs": [],
   "source": []
  },
  {
   "cell_type": "code",
   "execution_count": null,
   "id": "bc74c291-0d86-46f8-ba78-cb1e2371c3a1",
   "metadata": {},
   "outputs": [],
   "source": []
  },
  {
   "cell_type": "code",
   "execution_count": null,
   "id": "5b53334c-68ea-48d7-a1bb-a6d32e45b6ed",
   "metadata": {},
   "outputs": [],
   "source": []
  }
 ],
 "metadata": {
  "kernelspec": {
   "display_name": "Python 3 (ipykernel)",
   "language": "python",
   "name": "python3"
  },
  "language_info": {
   "codemirror_mode": {
    "name": "ipython",
    "version": 3
   },
   "file_extension": ".py",
   "mimetype": "text/x-python",
   "name": "python",
   "nbconvert_exporter": "python",
   "pygments_lexer": "ipython3",
   "version": "3.9.23"
  }
 },
 "nbformat": 4,
 "nbformat_minor": 5
}
